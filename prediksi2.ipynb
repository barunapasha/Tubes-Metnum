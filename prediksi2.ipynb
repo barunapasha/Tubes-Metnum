{
 "cells": [
  {
   "cell_type": "markdown",
   "metadata": {},
   "source": [
    "#FIX ANJIR INI FIX#"
   ]
  },
  {
   "cell_type": "code",
   "execution_count": 38,
   "metadata": {},
   "outputs": [],
   "source": [
    "import numpy as np\n",
    "import pandas as pd\n",
    "import matplotlib.pyplot as plt\n",
    "from itertools import combinations_with_replacement\n",
    "\n",
    "# Data\n",
    "data = {\n",
    "    'club': ['Giga FC', 'Bintang Timur', 'Sadakata', 'Cosmo JNE', 'Radit FC', 'Black Steel', \n",
    "             'Pelindo Mutiara', 'Unggul FC', 'Fafage Vamos', 'Halus FC', 'Kancil WHW', 'Pendekar United'],\n",
    "    'pertandingan': [10, 10, 10, 10, 10, 10, 10, 10, 10, 10, 10, 10],\n",
    "    'menang': [3, 6, 4, 5, 4, 4, 5, 4, 5, 3, 1, 4],\n",
    "    'kalah': [4, 1, 3, 2, 3, 2, 2, 5, 4, 2, 7, 2],\n",
    "    'seri': [3, 3, 3, 3, 3, 4, 3, 1, 1, 5, 2, 4],\n",
    "    'selisih_goal': [-2, -1, -1, 16, -4, 5, -3, -7, 4, 6, -1, 7],\n",
    "    'skor': [12, 21, 15, 18, 15, 16, 18, 14, 16, 14, 5, 16]\n",
    "}\n",
    "\n",
    "df = pd.DataFrame(data)"
   ]
  },
  {
   "cell_type": "code",
   "execution_count": 39,
   "metadata": {},
   "outputs": [],
   "source": [
    "# Data independen dan dependen\n",
    "X = df[['pertandingan', 'menang', 'kalah', 'seri', 'selisih_goal']].values  # data independen\n",
    "y = df['skor'].values  # data dependen\n",
    "\n",
    "# Fungsi untuk membagi data\n",
    "def train_test_split_custom(X, y, test_size=0.2, random_state=None):\n",
    "    if random_state:\n",
    "        np.random.seed(random_state)\n",
    "    n_samples = X.shape[0]\n",
    "    n_test = int(test_size * n_samples)\n",
    "    indices = np.random.permutation(n_samples)\n",
    "    train_indices, test_indices = indices[n_test:], indices[:n_test]\n",
    "    \n",
    "    X_train, X_test = X[train_indices], X[test_indices]\n",
    "    y_train, y_test = y[train_indices], y[test_indices]\n",
    "    \n",
    "    return X_train, X_test, y_train, y_test\n",
    "\n",
    "# Split data\n",
    "X_train, X_test, y_train, y_test = train_test_split_custom(X, y, test_size=0.2, random_state=42)"
   ]
  },
  {
   "cell_type": "code",
   "execution_count": 40,
   "metadata": {},
   "outputs": [
    {
     "name": "stdout",
     "output_type": "stream",
     "text": [
      "Mean Squared Error: 5.316911983139664e+36\n",
      "R2 Score: -2.6256355472294633e+35\n",
      "Mean Absolute Error: 2.305843009213694e+18\n",
      "Root Mean Squared Error: 2.305843009213694e+18\n"
     ]
    },
    {
     "data": {
      "image/png": "[encoded data removed]",
      "text/plain": [
       "<Figure size 640x480 with 1 Axes>"
      ]
     },
     "metadata": {},
     "output_type": "display_data"
    },
    {
     "name": "stdout",
     "output_type": "stream",
     "text": [
      "               club  pertandingan menang kalah seri  selisih_goal  \\\n",
      "0           Giga FC            22      7     7    8             1   \n",
      "1     Bintang Timur            22      2    20    0            12   \n",
      "2          Sadakata            22      1    11   10             9   \n",
      "3         Cosmo JNE            22      5     1   16            14   \n",
      "4          Radit FC            22     20     0    2            -8   \n",
      "5       Black Steel            22     11     9    2            -6   \n",
      "6   Pelindo Mutiara            22     21     0    1             8   \n",
      "7         Unggul FC            22     11     8    3            -4   \n",
      "8      Fafage Vamos            22     16     2    4            10   \n",
      "9          Halus FC            22      9    11    2            -2   \n",
      "10       Kancil WHW            22     15     6    1            -4   \n",
      "11  Pendekar United            22     14     2    6             7   \n",
      "\n",
      "   skor_prediksi  \n",
      "0             29  \n",
      "1              6  \n",
      "2             13  \n",
      "3             31  \n",
      "4             62  \n",
      "5             35  \n",
      "6             64  \n",
      "7             36  \n",
      "8             52  \n",
      "9             29  \n",
      "10            46  \n",
      "11            48  \n"
     ]
    }
   ],
   "source": [
    "# Fungsi untuk mengubah fitur menjadi fitur polinomial\n",
    "def polynomial_features(X, degree):\n",
    "    n_samples, n_features = X.shape\n",
    "    combinations = [combinations_with_replacement(range(n_features), i) for i in range(degree + 1)]\n",
    "    flat_combinations = [item for sublist in combinations for item in sublist]\n",
    "    n_output_features = len(flat_combinations)\n",
    "\n",
    "    X_poly = np.empty((n_samples, n_output_features))\n",
    "\n",
    "    for i, index_comb in enumerate(flat_combinations):\n",
    "        X_poly[:, i] = np.prod(X[:, index_comb], axis=1)\n",
    "    \n",
    "    return X_poly\n",
    "\n",
    "# Kelas Regresi Polinomial Ganda\n",
    "class PolynomialRegression:\n",
    "    def __init__(self, degree):\n",
    "        self.degree = degree\n",
    "        self.coefficients = None\n",
    "        \n",
    "    def fit(self, X, y):\n",
    "        X_poly = polynomial_features(X, self.degree)\n",
    "        X_poly_bias = np.c_[np.ones((X_poly.shape[0], 1)), X_poly]  # tambahkan bias term\n",
    "        self.coefficients = np.linalg.inv(X_poly_bias.T.dot(X_poly_bias)).dot(X_poly_bias.T).dot(y)\n",
    "        \n",
    "    def predict(self, X):\n",
    "        X_poly = polynomial_features(X, self.degree)\n",
    "        X_poly_bias = np.c_[np.ones((X_poly.shape[0], 1)), X_poly]  # tambahkan bias term\n",
    "        return X_poly_bias.dot(self.coefficients)\n",
    "\n",
    "# Fit model\n",
    "degree = 3  # Derajat polinomial yang ditingkatkan\n",
    "model = PolynomialRegression(degree)\n",
    "model.fit(X_train, y_train)\n",
    "\n",
    "# Prediksi\n",
    "y_pred = model.predict(X_test)\n",
    "\n",
    "# Metrik Evaluasi\n",
    "def mean_squared_error (y_true, y_pred):\n",
    "    return np.mean((y_true - y_pred) ** 2)\n",
    "\n",
    "def r2_score (y_true, y_pred):\n",
    "    ss_res = np.sum((y_true - y_pred) ** 2)\n",
    "    ss_tot = np.sum((y_true - np.mean(y_true)) ** 2)\n",
    "    return 1 - (ss_res / ss_tot)\n",
    "\n",
    "def mean_absolute_error (y_true, y_pred):\n",
    "    return np.mean(np.abs(y_true - y_pred))\n",
    "\n",
    "mse = mean_squared_error (y_test, y_pred)\n",
    "r2 = r2_score (y_test, y_pred)\n",
    "mae = mean_absolute_error (y_test, y_pred)\n",
    "rmse = np.sqrt(mse)\n",
    "\n",
    "# Output hasil evaluasi\n",
    "print(f'Mean Squared Error: {mse}')\n",
    "print(f'R2 Score: {r2}')\n",
    "print(f'Mean Absolute Error: {mae}')\n",
    "print(f'Root Mean Squared Error: {rmse}')\n",
    "\n",
    "# Plot\n",
    "plt.scatter(y_test, y_pred)\n",
    "plt.xlabel('Actual Scores')\n",
    "plt.ylabel('Predicted Scores')\n",
    "plt.title('Actual vs Predicted Scores')\n",
    "plt.show()\n",
    "\n",
    "# Prediksi untuk data baru\n",
    "data_prediksi = {\n",
    "    'pertandingan': [22] * 12,\n",
    "    'menang': [None] * 12,\n",
    "    'kalah': [None] * 12,\n",
    "    'seri': [None] * 12,\n",
    "    'selisih_goal': [None] * 12\n",
    "}\n",
    "df_prediksi = pd.DataFrame(data_prediksi)\n",
    "\n",
    "for i in range(len(df_prediksi)):\n",
    "    menang = np.random.randint(0, 23)\n",
    "    kalah = np.random.randint(0, 23 - menang)\n",
    "    seri = 22 - menang - kalah\n",
    "    df_prediksi.at[i, 'menang'] = menang\n",
    "    df_prediksi.at[i, 'kalah'] = kalah\n",
    "    df_prediksi.at[i, 'seri'] = seri\n",
    "\n",
    "df_prediksi['selisih_goal'] = np.random.randint(-10, 20, size=(12,))\n",
    "df_prediksi['skor_prediksi'] = df_prediksi['menang'] * 3 + df_prediksi['seri']\n",
    "df_prediksi.insert(0, 'club', df['club'])\n",
    "df_prediksi_sorted = df_prediksi.sort_values(by='skor_prediksi', ascending=False)\n",
    "\n",
    "print(df_prediksi)\n"
   ]
  },
  {
   "cell_type": "code",
   "execution_count": 41,
   "metadata": {},
   "outputs": [
    {
     "name": "stdout",
     "output_type": "stream",
     "text": [
      "               club  pertandingan menang kalah seri  selisih_goal  \\\n",
      "6   Pelindo Mutiara            22     21     0    1             8   \n",
      "4          Radit FC            22     20     0    2            -8   \n",
      "8      Fafage Vamos            22     16     2    4            10   \n",
      "11  Pendekar United            22     14     2    6             7   \n",
      "10       Kancil WHW            22     15     6    1            -4   \n",
      "7         Unggul FC            22     11     8    3            -4   \n",
      "5       Black Steel            22     11     9    2            -6   \n",
      "3         Cosmo JNE            22      5     1   16            14   \n",
      "0           Giga FC            22      7     7    8             1   \n",
      "9          Halus FC            22      9    11    2            -2   \n",
      "2          Sadakata            22      1    11   10             9   \n",
      "1     Bintang Timur            22      2    20    0            12   \n",
      "\n",
      "   skor_prediksi  \n",
      "6             64  \n",
      "4             62  \n",
      "8             52  \n",
      "11            48  \n",
      "10            46  \n",
      "7             36  \n",
      "5             35  \n",
      "3             31  \n",
      "0             29  \n",
      "9             29  \n",
      "2             13  \n",
      "1              6  \n"
     ]
    }
   ],
   "source": [
    "print(df_prediksi_sorted)"
   ]
  },
  {
   "cell_type": "code",
   "execution_count": 5,
   "metadata": {},
   "outputs": [
    {
     "name": "stdout",
     "output_type": "stream",
     "text": [
      "Rumus Regresi Polinomial Ganda Derajat 3:\n",
      " y = β0 + β1*x1 + β2*x2 + β3*x3 + β4*x4 + β5*x1^2 + β6*x1*x2 + β7*x1*x3 + β8*x1*x4 + β9*x2^2 + β10*x2*x3 + β11*x2*x4 + β12*x3^2 + β13*x3*x4 + β14*x4^2 + β15*x1^3 + β16*x1^2*x2 \n",
      " β17*x1^2*x3 + β18*x1^2*x4 + β19*x1*x2^2 + β20*x1*x2*x3 + β21*x1*x2*x4 + β22*x1*x3^2 + β23*x1*x3*x4 + β24*x1*x4^2 + β25*x2^3 + β26*x2^2*x3 + β27*x2^2*x4 \n",
      " β28*x2*x3^2 + β29*x2*x3*x4 + β30*x2*x4^2 + β31*x3^3 + β32*x3^2*x4 + β33*x3*x4^2 + β34*x4^3\n"
     ]
    }
   ],
   "source": [
    "print(\"Rumus Regresi Polinomial Ganda Derajat 3:\")\n",
    "print(\" y = β0 + β1*x1 + β2*x2 + β3*x3 + β4*x4 + β5*x1^2 + β6*x1*x2 + β7*x1*x3 + β8*x1*x4 + β9*x2^2 + β10*x2*x3 + β11*x2*x4 + β12*x3^2 + β13*x3*x4 + β14*x4^2 + β15*x1^3 + β16*x1^2*x2 \\n\"\n",
    "      \" β17*x1^2*x3 + β18*x1^2*x4 + β19*x1*x2^2 + β20*x1*x2*x3 + β21*x1*x2*x4 + β22*x1*x3^2 + β23*x1*x3*x4 + β24*x1*x4^2 + β25*x2^3 + β26*x2^2*x3 + β27*x2^2*x4 \\n\" \n",
    "      \" β28*x2*x3^2 + β29*x2*x3*x4 + β30*x2*x4^2 + β31*x3^3 + β32*x3^2*x4 + β33*x3*x4^2 + β34*x4^3\")\n"
   ]
  }
 ],
 "metadata": {
  "kernelspec": {
   "display_name": "Python 3",
   "language": "python",
   "name": "python3"
  },
  "language_info": {
   "codemirror_mode": {
    "name": "ipython",
    "version": 3
   },
   "file_extension": ".py",
   "mimetype": "text/x-python",
   "name": "python",
   "nbconvert_exporter": "python",
   "pygments_lexer": "ipython3",
   "version": "3.11.7"
  }
 },
 "nbformat": 4,
 "nbformat_minor": 2
}
